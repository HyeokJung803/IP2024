{
 "cells": [
  {
   "cell_type": "code",
   "execution_count": 31,
   "metadata": {},
   "outputs": [],
   "source": [
    "import cv2\n",
    "import numpy as np\n",
    "from matplotlib import pyplot as plt"
   ]
  },
  {
   "cell_type": "code",
   "execution_count": 11,
   "metadata": {},
   "outputs": [],
   "source": [
    "img = cv2.imread('san.png')\n"
   ]
  },
  {
   "cell_type": "code",
   "execution_count": 42,
   "metadata": {},
   "outputs": [],
   "source": [
    "font = cv2.FONT_HERSHEY_SIMPLEX\n",
    "drawing = False\n",
    "ix, iy = -1, -1\n",
    "img = cv2.imread('san.png')\n",
    "overlay = img.copy()\n",
    "\n",
    "def draw_rectangle(event, x, y, flags, param):\n",
    "    global ix, iy, drawing, overlay\n",
    "\n",
    "    if event == cv2.EVENT_LBUTTONDOWN:\n",
    "        drawing = True\n",
    "        ix, iy = x, y\n",
    "\n",
    "    elif event == cv2.EVENT_MOUSEMOVE:\n",
    "        cv2.putText(img, 'Mouse Position (' + str(x) + \",\" + str(y) + \")\", (10, 50), font, 0.7, (255, 255, 255), 1, cv2.LINE_AA)\n",
    "        if drawing:\n",
    "            overlay = img.copy()\n",
    "            cv2.rectangle(overlay, (ix, iy), (x, y), (0, 0, 255), -1)\n",
    "\n",
    "    elif event == cv2.EVENT_LBUTTONUP:\n",
    "        drawing = False\n",
    "        cv2.rectangle(overlay, (ix, iy), (x, y), (0, 0, 255), -1)\n",
    "\n",
    "cv2.namedWindow('image')\n",
    "cv2.setMouseCallback('image', draw_rectangle)\n",
    "\n",
    "cv2.createTrackbar('value', 'image', 0, 100, lambda x: None)\n",
    "\n",
    "while True:\n",
    "    combined = cv2.addWeighted(overlay, 0.5, img, 0.5, 0)\n",
    "    cv2.imshow('image', combined)\n",
    "\n",
    "    if cv2.waitKey(1) & 0xFF == 27:\n",
    "        break\n",
    "\n",
    "cv2.destroyAllWindows()\n"
   ]
  }
 ],
 "metadata": {
  "kernelspec": {
   "display_name": "IP2024",
   "language": "python",
   "name": "python3"
  },
  "language_info": {
   "codemirror_mode": {
    "name": "ipython",
    "version": 3
   },
   "file_extension": ".py",
   "mimetype": "text/x-python",
   "name": "python",
   "nbconvert_exporter": "python",
   "pygments_lexer": "ipython3",
   "version": "3.8.20"
  }
 },
 "nbformat": 4,
 "nbformat_minor": 2
}
